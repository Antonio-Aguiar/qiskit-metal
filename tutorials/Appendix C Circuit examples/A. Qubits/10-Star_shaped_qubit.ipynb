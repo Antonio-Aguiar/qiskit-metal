{
 "cells": [
  {
   "cell_type": "code",
   "execution_count": null,
   "id": "present-strike",
   "metadata": {},
   "outputs": [],
   "source": [
    "# -*- coding: utf-8 -*-\n",
    "\n",
    "# This code is part of Qiskit.\n",
    "#\n",
    "# (C) Copyright IBM 2017, 2021.\n",
    "#\n",
    "# This code is licensed under the Apache License, Version 2.0. You may\n",
    "# obtain a copy of this license in the LICENSE.txt file in the root directory\n",
    "# of this source tree or at http://www.apache.org/licenses/LICENSE-2.0.\n",
    "#\n",
    "# Any modifications or derivative works of this code must retain this\n",
    "# copyright notice, and modified files need to carry a notice indicating\n",
    "# that they have been altered from the originals."
   ]
  },
  {
   "cell_type": "code",
   "execution_count": 1,
   "id": "bright-latex",
   "metadata": {},
   "outputs": [],
   "source": [
    "import numpy as np\n",
    "from math import *\n",
    "from qiskit_metal import designs, draw, Dict\n",
    "from qiskit_metal.qlibrary.core import BaseQubit, QComponent\n",
    "from qiskit_metal.qlibrary.sample_shapes.n_gon import NGon\n",
    "from qiskit_metal.qlibrary.sample_shapes.star_qubit import StarQubit"
   ]
  },
  {
   "cell_type": "code",
   "execution_count": 2,
   "id": "endangered-saying",
   "metadata": {},
   "outputs": [],
   "source": [
    "from qiskit_metal import MetalGUI"
   ]
  },
  {
   "cell_type": "code",
   "execution_count": 3,
   "id": "civil-characteristic",
   "metadata": {},
   "outputs": [],
   "source": [
    "design = designs.DesignPlanar()\n",
    "gui = MetalGUI(design)\n",
    "gui.rebuild() "
   ]
  },
  {
   "cell_type": "code",
   "execution_count": 4,
   "id": "rotary-charity",
   "metadata": {},
   "outputs": [],
   "source": [
    "StarQubit(design, 'test2')\n",
    "gui.rebuild()"
   ]
  },
  {
   "cell_type": "code",
   "execution_count": null,
   "id": "european-attack",
   "metadata": {},
   "outputs": [],
   "source": []
  }
 ],
 "metadata": {
  "kernelspec": {
   "display_name": "Python 3",
   "language": "python",
   "name": "python3"
  },
  "language_info": {
   "codemirror_mode": {
    "name": "ipython",
    "version": 3
   },
   "file_extension": ".py",
   "mimetype": "text/x-python",
   "name": "python",
   "nbconvert_exporter": "python",
   "pygments_lexer": "ipython3",
   "version": "3.7.8"
  }
 },
 "nbformat": 4,
 "nbformat_minor": 5
}
