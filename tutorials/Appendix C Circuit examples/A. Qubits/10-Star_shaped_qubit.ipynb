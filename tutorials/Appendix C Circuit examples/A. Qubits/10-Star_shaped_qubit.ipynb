{
 "cells": [
  {
   "cell_type": "markdown",
   "id": "897068e9",
   "metadata": {},
   "source": [
    "# Star shaped qubit\n",
    "\n",
    "We'll be creating a 2D design and adding a star shaped qubit QComponent.\n",
    "\n",
    "\n",
    "There's a central star shaped component. This component is essentially a circle with trpezoids subtracted from it. A T-junction qubit is attached to this central shape. Then there are four coupling resonators and one readout resonator present in the default setting. The shape of the central component and the number coupling resonators are customizable. Let's try out a few diferent ways to create and render this component."
   ]
  },
  {
   "cell_type": "code",
   "execution_count": 1,
   "id": "4920e2a9",
   "metadata": {},
   "outputs": [],
   "source": [
    "# So, let us dive right in. For convenience, let's begin by enabling\n",
    "# automatic reloading of modules when they change.\n",
    "%load_ext autoreload\n",
    "%autoreload 2"
   ]
  },
  {
   "cell_type": "markdown",
   "id": "46f792f6",
   "metadata": {},
   "source": [
    "Next, we import the relevant modules. You can add new modules as and when needed. "
   ]
  },
  {
   "cell_type": "code",
   "execution_count": 2,
   "id": "bright-latex",
   "metadata": {},
   "outputs": [],
   "source": [
    "import qiskit_metal as metal\n",
    "import numpy as np\n",
    "from math import *\n",
    "from qiskit_metal import designs, draw, Dict\n",
    "from qiskit_metal.qlibrary.core import BaseQubit, QComponent"
   ]
  },
  {
   "cell_type": "markdown",
   "id": "7f6c42ea",
   "metadata": {},
   "source": [
    "Next we import the GUI"
   ]
  },
  {
   "cell_type": "code",
   "execution_count": 3,
   "id": "endangered-saying",
   "metadata": {},
   "outputs": [],
   "source": [
    "from qiskit_metal import MetalGUI"
   ]
  },
  {
   "cell_type": "markdown",
   "id": "563cf4ed",
   "metadata": {},
   "source": [
    "A QDesign class must be instantiated each time a new quantum circuit design is created. The design class `DesignPlanar` is best for 2D circuit designs."
   ]
  },
  {
   "cell_type": "code",
   "execution_count": 4,
   "id": "civil-characteristic",
   "metadata": {},
   "outputs": [],
   "source": [
    "design = designs.DesignPlanar()\n",
    "gui = MetalGUI(design)\n",
    "gui.rebuild() "
   ]
  },
  {
   "cell_type": "markdown",
   "id": "e9e95f6e",
   "metadata": {},
   "source": [
    "# A Star Qubit\n",
    "\n",
    "You can create a ready-made star qubit from the QComponent Library, qiskit_metal.qlibrary.qubits. star_qubit.py is the file containing our qubit so StarQubit is the module we import. \n"
   ]
  },
  {
   "cell_type": "code",
   "execution_count": 5,
   "id": "02db355f",
   "metadata": {},
   "outputs": [],
   "source": [
    "from qiskit_metal.qlibrary.qubits.star_qubit import StarQubit"
   ]
  },
  {
   "cell_type": "code",
   "execution_count": 9,
   "id": "42d29a3a",
   "metadata": {},
   "outputs": [
    {
     "data": {
      "text/plain": [
       "{'radius': '300um',\n",
       " 'center_radius': '100um',\n",
       " 'gap_couplers': '25um',\n",
       " 'gap_readout': '10um',\n",
       " 'connector_length': '75um',\n",
       " 'trap_offset': '20um',\n",
       " 'junc_w': '120um',\n",
       " 'junc_h': '30um',\n",
       " 'rotation1': '0.0',\n",
       " 'rotation2': '72.0',\n",
       " 'rotation3': '144.0',\n",
       " 'rotation4': '216.0',\n",
       " 'rotation5': '288.0',\n",
       " 'pos_x': '0um',\n",
       " 'pos_y': '0um',\n",
       " 'number_of_connectors': '1',\n",
       " 'resolution': '16',\n",
       " 'cap_style': 'round',\n",
       " 'subtract': 'False',\n",
       " 'helper': 'False',\n",
       " 'chip': 'main',\n",
       " 'layer': '1'}"
      ]
     },
     "execution_count": 9,
     "metadata": {},
     "output_type": "execute_result"
    }
   ],
   "source": [
    "# The following default_options can be overridden by user.\n",
    "StarQubit.get_template_options(design)"
   ]
  },
  {
   "cell_type": "code",
   "execution_count": 7,
   "id": "ead343f1",
   "metadata": {},
   "outputs": [],
   "source": [
    "# To force overwrite a QComponent with an existing name.  \n",
    "# This is useful when re-running cells in a notebook. \n",
    "design.overwrite_enabled = True"
   ]
  },
  {
   "cell_type": "code",
   "execution_count": 15,
   "id": "343c330e",
   "metadata": {
    "scrolled": true
   },
   "outputs": [],
   "source": [
    "# Place the qubit at (x,y) =(0,0)\n",
    "qubit_options = dict(\n",
    "    pos_x = '5um',\n",
    "    pos_y = '5um',  \n",
    "    rotation1 = '36.0', # rotation for one of the coupling resonators '36.0',\n",
    "    rotation2 = '108.0', # rotation for the readout resonator '108.0',\n",
    "    rotation3 = '180.0', # rotation for one of the coupling resonators '180.0',\n",
    "    rotation4 = '252.0', # rotation for one of the coupling resonators'252.0',\n",
    "    rotation5 = '324.0', # rotation for one of the coupling resonators '324.0',\n",
    "    number_of_connectors = 4, \n",
    "    junc_w='150um',  # transmon pocket width\n",
    "    junc_h='30um',  # transmon pocket height\n",
    ")\n",
    "\n",
    "# Create a new Concentric Transmon object with name 'Q1' \n",
    "q1 = StarQubit(design, 'Star', options=qubit_options)\n",
    "\n",
    "gui.rebuild()  # rebuild the design and plot \n",
    "gui.autoscale() #resize GUI to see QComponent\n",
    "gui.zoom_on_components(['Star']) #Can also gui.zoom_on_components([q1.name])"
   ]
  },
  {
   "cell_type": "code",
   "execution_count": null,
   "id": "rotary-charity",
   "metadata": {
    "scrolled": true
   },
   "outputs": [],
   "source": [
    "#StarQubit(design, 'Star')\n",
    "#gui.rebuild()"
   ]
  },
  {
   "cell_type": "code",
   "execution_count": null,
   "id": "bca963d5",
   "metadata": {},
   "outputs": [],
   "source": []
  },
  {
   "cell_type": "code",
   "execution_count": null,
   "id": "b9922b33",
   "metadata": {},
   "outputs": [],
   "source": []
  }
 ],
 "metadata": {
  "kernelspec": {
   "display_name": "Python 3 (ipykernel)",
   "language": "python",
   "name": "python3"
  },
  "language_info": {
   "codemirror_mode": {
    "name": "ipython",
    "version": 3
   },
   "file_extension": ".py",
   "mimetype": "text/x-python",
   "name": "python",
   "nbconvert_exporter": "python",
   "pygments_lexer": "ipython3",
   "version": "3.9.6"
  }
 },
 "nbformat": 4,
 "nbformat_minor": 5
}
